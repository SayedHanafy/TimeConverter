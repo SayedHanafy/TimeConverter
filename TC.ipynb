{
 "cells": [
  {
   "cell_type": "code",
   "execution_count": 6,
   "metadata": {},
   "outputs": [
    {
     "name": "stdout",
     "output_type": "stream",
     "text": [
      "Enter cairo Time in 24.00 format15.00\n",
      "your current time is:  15.0\n",
      "Time in UTC is  12.0 Time in UTC is  13.0\n"
     ]
    }
   ],
   "source": [
    "\n",
    "    CurrentTime=float(input(\"Enter cairo Time in 24.00 format \"))\n",
    "    print (\"your current time is: \",CurrentTime)\n",
    "    UTC=(CurrentTime-3)%24\n",
    "    UTC_rounded = round(UTC, 3)\n",
    "    UK=(CurrentTime-2)%24\n",
    "    UK_rounded= round (UK, 2)\n",
    "    IST\n",
    "    print(\"Time in UTC is \",UTC_rounded, \"Time in UTC is \",UK_rounded)\n",
    "    \n",
    " "
   ]
  },
  {
   "cell_type": "code",
   "execution_count": null,
   "metadata": {},
   "outputs": [],
   "source": [
    "def CairoNow():\n",
    "    CurrentTime=float(input(\"Enter Cairo Time in 24.00 format\"))\n",
    "    print (\"your current time is: \",CurrentTime)\n",
    "    UTC=(CurrentTime-3)%24\n",
    "    UTC_rounded = round(UTC,2)\n",
    "    UK=(CurrentTime-2)%24\n",
    "    UK_rounded = round(UK, 2)\n",
    "    Portugal=(CurrentTime-2)%24\n",
    "    Portugal_rounded = round(Portugal, 2)\n",
    "    Italy=(CurrentTime-1)%24\n",
    "    Italy_rounded = round(Italy, 2)\n",
    "    Germany=(CurrentTime-1)%24\n",
    "    Germany_rounded = round(Germany, 2)\n",
    "    Greece=(CurrentTime)%24\n",
    "    Greece_rounded = round(Greece, 2)\n",
    "    IST=(CurrentTime+2.30)%24\n",
    "    IST_rounded = round(IST, 2)\n",
    "    Czech=(CurrentTime-1)%24\n",
    "    Czech_rounded = round(Czech, 2)\n",
    "    Albania=(CurrentTime-1)%24\n",
    "    Albania_rounded = round(UTC, 2)\n",
    "    \n",
    "    \n",
    "    print(\"If Cairo Time is: \",CurrentTime, \"UTC Time will be      :\", UTC_rounded)\n",
    "    print(\"If Cairo Time is: \",CurrentTime, \"UK Time will be       :\", UK_rounded)\n",
    "    print(\"If Cairo Time is: \",CurrentTime, \"Portugal Time will be :\", Portugal_rounded)\n",
    "    print(\"If Cairo Time is: \",CurrentTime, \"Italy Time will be    :\", Italy_rounded)\n",
    "    print(\"If Cairo Time is: \",CurrentTime, \"Germany Time will be  :\", Germany_rounded)\n",
    "    print(\"If Cairo Time is: \",CurrentTime, \"Greece Time will be   :\", Greece_rounded)\n",
    "    print(\"If Cairo Time is: \",CurrentTime, \"IST Time will be      :\", IST_rounded)\n",
    "    print(\"If Cairo Time is: \",CurrentTime, \"Czech Time will be    :\", Czech_rounded)\n",
    "    print(\"If Cairo Time is: \",CurrentTime, \"Albania Time will be  :\", Albania_rounded)\n",
    "    \n",
    "\n",
    "\n",
    "def main ():\n",
    "    while True:\n",
    "        print(\"Menu:\")\n",
    "        print(\"1. Cairo \")\n",
    "        \n",
    "    \n",
    "       \n",
    "        choice = int(input(\"Enter your choice: \"))\n",
    "        if choice == 1:\n",
    "            CairoNow()\n",
    "     \n",
    "        else:\n",
    "            print(\"Invalid choice. Please try again.\")\n",
    "\n",
    "if __name__ == \"__main__\":\n",
    "    main()\n",
    "\n"
   ]
  },
  {
   "cell_type": "code",
   "execution_count": null,
   "metadata": {},
   "outputs": [],
   "source": []
  }
 ],
 "metadata": {
  "kernelspec": {
   "display_name": "Python 3",
   "language": "python",
   "name": "python3"
  },
  "language_info": {
   "codemirror_mode": {
    "name": "ipython",
    "version": 3
   },
   "file_extension": ".py",
   "mimetype": "text/x-python",
   "name": "python",
   "nbconvert_exporter": "python",
   "pygments_lexer": "ipython3",
   "version": "3.7.4"
  }
 },
 "nbformat": 4,
 "nbformat_minor": 2
}
